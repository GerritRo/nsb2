{
 "cells": [
  {
   "cell_type": "code",
   "execution_count": 1,
   "id": "e69a1b02-e6d6-4968-a045-b5fff40ed786",
   "metadata": {},
   "outputs": [],
   "source": [
    "import sys\n",
    "sys.path.insert(0,'/home/anonymous/trainjourney/nsb2/')\n",
    "sys.path.insert(0,'/home/anonymous/src/blacksky/')"
   ]
  },
  {
   "cell_type": "code",
   "execution_count": 2,
   "id": "c48bdbbf",
   "metadata": {},
   "outputs": [],
   "source": [
    "import numpy as np\n",
    "import matplotlib.pyplot as plt\n",
    "\n",
    "import histlite as hl\n",
    "import astropy\n",
    "from astropy.coordinates import SkyCoord, EarthLocation, AltAz\n",
    "import astropy.units as u"
   ]
  },
  {
   "cell_type": "code",
   "execution_count": 7,
   "id": "b363575d",
   "metadata": {},
   "outputs": [],
   "source": [
    "from nsb.atmosphere import scattering, extinction\n",
    "\n",
    "from nsb.emitter import moon, airglow, galactic, zodiacal\n",
    "\n",
    "from nsb.core.logic import Layer, Scattering\n",
    "from nsb.core import Frame, Model\n",
    "#from nsb.core.emitter import Emitter\n",
    "from nsb.core.instrument import Instrument, Camera, Pixel\n",
    "from nsb.core.ray import Ray\n",
    "from nsb.core.utils import reduce_rays, haversine, hist_sample\n",
    "import nsb.utils.bandpass as bandpass"
   ]
  },
  {
   "cell_type": "markdown",
   "id": "c70d5989",
   "metadata": {},
   "source": [
    "# Predicting Night Sky Background for H.E.S.S."
   ]
  },
  {
   "cell_type": "markdown",
   "id": "b4505da8",
   "metadata": {},
   "source": [
    "## 1. Configuring the model layers:"
   ]
  },
  {
   "cell_type": "markdown",
   "id": "95644a0e",
   "metadata": {},
   "source": [
    "Configuring the models for emitters:"
   ]
  },
  {
   "cell_type": "code",
   "execution_count": 10,
   "id": "7453c589",
   "metadata": {},
   "outputs": [],
   "source": [
    "# Moonlight:\n",
    "conf_jons = {}\n",
    "\n",
    "# Diffuse Emitters:\n",
    "conf_glow = {\"H\": 87}\n",
    "conf_hmag  = {\"Mag_0\": 236.8*2.3504*1e-11}\n",
    "conf_kawa = {'i100_max':50, 'star_percentage':0.25}\n",
    "\n",
    "# Starlight\n",
    "conf_gaia = {\"catalog_file\": '/lfs/l7/hess/users/gerritr/GaiaDR3Tycho.pkl', \"magmin\" : -2, \"magmax\": 15}"
   ]
  },
  {
   "cell_type": "markdown",
   "id": "19c72409",
   "metadata": {},
   "source": [
    "Configuring atmospheric scattering:"
   ]
  },
  {
   "cell_type": "code",
   "execution_count": 11,
   "id": "7b87152b",
   "metadata": {},
   "outputs": [],
   "source": [
    "conf_mie = {\"parameters\": [0.8],\n",
    "            \"bins\": [np.linspace(0, np.pi, 1000)]}      \n",
    "conf_ray = {\"parameters\": [0.0148],\n",
    "            \"bins\": [np.linspace(0, np.pi, 1000)]}"
   ]
  },
  {
   "cell_type": "markdown",
   "id": "15cc6090",
   "metadata": {},
   "source": [
    "Creating the Instrument from a response object:"
   ]
  },
  {
   "cell_type": "code",
   "execution_count": 5,
   "id": "b82d0dd5-df0b-4e2c-856b-91e14d58653b",
   "metadata": {},
   "outputs": [],
   "source": [
    "from nsb.instrument import RESPONSE_PATH\n",
    "hess1u = Camera.from_response(RESPONSE_PATH+'hess1u_ct1.pkl')"
   ]
  },
  {
   "cell_type": "markdown",
   "id": "dff46928",
   "metadata": {},
   "source": [
    "## 2. Creating a model:\n",
    "### Defining simple model including Moon, Stars and Airglow:"
   ]
  },
  {
   "cell_type": "code",
   "execution_count": 6,
   "id": "7f5b21d6",
   "metadata": {},
   "outputs": [
    {
     "ename": "NameError",
     "evalue": "name 'airglow' is not defined",
     "output_type": "error",
     "traceback": [
      "\u001b[0;31m---------------------------------------------------------------------------\u001b[0m",
      "\u001b[0;31mNameError\u001b[0m                                 Traceback (most recent call last)",
      "Cell \u001b[0;32mIn[6], line 2\u001b[0m\n\u001b[1;32m      1\u001b[0m \u001b[38;5;66;03m# Sources:\u001b[39;00m\n\u001b[0;32m----> 2\u001b[0m glow \u001b[38;5;241m=\u001b[39m airglow\u001b[38;5;241m.\u001b[39mNoll2012(conf_glow)\n\u001b[1;32m      3\u001b[0m zodi \u001b[38;5;241m=\u001b[39m zodiacal\u001b[38;5;241m.\u001b[39mMasana2021({})\n\u001b[1;32m      5\u001b[0m gaia \u001b[38;5;241m=\u001b[39m stars\u001b[38;5;241m.\u001b[39mStarCatalog(conf_gaia)\n",
      "\u001b[0;31mNameError\u001b[0m: name 'airglow' is not defined"
     ]
    }
   ],
   "source": [
    "# Sources:\n",
    "glow = airglow.Noll2012(conf_glow)\n",
    "zodi = zodiacal.Masana2021({})\n",
    "\n",
    "gaia = stars.StarCatalog(conf_gaia)\n",
    "hmag = galactic.GaiaDR3Mag15(conf_hmag)\n",
    "gbl  = galactic.Kawara2017(conf_kawa)\n",
    "\n",
    "jons = moon.Jones2013(conf_jons)\n",
    "\n",
    "# Atmospheric Extinction:\n",
    "atm_airglow = extinction.Noll2012({'scale':1.6, 'offset':-0.16})([glow])\n",
    "atm_diffuse = extinction.Masana2021({'gamma':0.5})([zodi, gbl])\n",
    "atm_stellar = extinction.Masana2021({'gamma':1})([gaia, hmag])\n",
    "\n",
    "# Atmospheric Scattering:\n",
    "atm_ray = scattering.Rayleigh(conf_ray)([jons]).map(np.deg2rad(180))\n",
    "atm_mie = scattering.Mie(conf_mie)([jons]).map(np.deg2rad(180))\n",
    "\n",
    "# Camera:\n",
    "CT1 = Instrument({'camera':hess1u, 'bandpass':bandpass.HESS1U()}, 1)([atm_stellar, atm_ray, atm_mie, atm_tes, atm_tet])"
   ]
  },
  {
   "cell_type": "markdown",
   "id": "844227c3",
   "metadata": {},
   "source": [
    "### Compiling the model:"
   ]
  },
  {
   "cell_type": "code",
   "execution_count": null,
   "id": "6a2c201e",
   "metadata": {},
   "outputs": [],
   "source": [
    "%%time\n",
    "model = Model(CT1)\n",
    "model.compile()"
   ]
  },
  {
   "cell_type": "markdown",
   "id": "6c0bd4c5",
   "metadata": {},
   "source": [
    "### Visualizing the pipeline"
   ]
  },
  {
   "cell_type": "code",
   "execution_count": null,
   "id": "f46aeed0",
   "metadata": {},
   "outputs": [],
   "source": [
    "print(model.summary())"
   ]
  },
  {
   "cell_type": "markdown",
   "id": "283680db",
   "metadata": {},
   "source": [
    "## 3. Determining a frame to capture:\n",
    "A \"frame\" describing a capture is determined by:\n",
    " - A location\n",
    " - An observation time in UTC\n",
    " - A target at which to point"
   ]
  },
  {
   "cell_type": "code",
   "execution_count": null,
   "id": "8b55abfe",
   "metadata": {},
   "outputs": [],
   "source": [
    "location = EarthLocation.from_geodetic(16.5028, -23.27280, 1800.)\n",
    "obstime  = astropy.time.Time('2021-03-21T22:14:16', format='isot', scale='utc')\n",
    "target   = SkyCoord.from_name('eta car')\n",
    "\n",
    "frame = Frame(location, obstime, target, 3.2, -0.25*u.deg, np.linspace(270, 730, 30)*u.nm, albedo=0.85, aero=[0.065, 1.2], sfu=75)"
   ]
  },
  {
   "cell_type": "markdown",
   "id": "20f24956",
   "metadata": {},
   "source": [
    "## 4. Using the model to predict NSB"
   ]
  },
  {
   "cell_type": "code",
   "execution_count": null,
   "id": "c78dc9df",
   "metadata": {},
   "outputs": [],
   "source": [
    "%%time\n",
    "res = model.predict(frame)"
   ]
  },
  {
   "cell_type": "markdown",
   "id": "c3508206",
   "metadata": {},
   "source": [
    "## 5. Visualizing the data:\n",
    "Each pipeline layer has it's corresponding visualization. It can either be called on a frame or rays generated by the same layer. As such, the final data can be easily evaluated:"
   ]
  },
  {
   "cell_type": "code",
   "execution_count": null,
   "id": "fbd4592f-9112-4f5d-8faf-fe5ecc1cc083",
   "metadata": {},
   "outputs": [],
   "source": [
    "from ctapipe.visualization import CameraDisplay\n",
    "def ctapipe_disp(cam, instrument, rays, ax, label='a.u.', **kwargs):\n",
    "    display = CameraDisplay(cam, ax=ax, **kwargs)\n",
    "    display.image = instrument.camera.pix_assign(rays)\n",
    "    display.add_colorbar(label=label)\n",
    "    return display"
   ]
  },
  {
   "cell_type": "code",
   "execution_count": null,
   "id": "0c199632",
   "metadata": {},
   "outputs": [],
   "source": [
    "fig, ax = plt.subplots()\n",
    "disp = ctapipe_disp(cam, CT1, res, ax, 'Rate [Hz]', show_frame=False)\n",
    "disp.set_limits_minmax(0, 1.8e9)"
   ]
  },
  {
   "cell_type": "markdown",
   "id": "089817a4",
   "metadata": {},
   "source": [
    "### Individual contributions:"
   ]
  },
  {
   "cell_type": "code",
   "execution_count": null,
   "id": "d618564b-0c26-4185-943e-55c831fb341e",
   "metadata": {},
   "outputs": [],
   "source": [
    "fig, ax = plt.subplots(nrows=2, ncols=3, figsize=(20,10))\n",
    "disp1 = ctapipe_disp(cam, CT1, res[res.source == type(jons)], ax[0,0], 'Rate [Hz]', title='Moon', show_frame=False)\n",
    "disp2 = ctapipe_disp(cam, CT1, res[res.source == type(glow)], ax[0,1], 'Rate [Hz]', title='Airglow', show_frame=False)\n",
    "disp3 = ctapipe_disp(cam, CT1, res[res.source == type(zodi)], ax[0,2], 'Rate [Hz]', title='Zodiacal Light', show_frame=False)\n",
    "disp4 = ctapipe_disp(cam, CT1, res[res.source == type(gaia)], ax[1,0], 'Rate [Hz]', title='Bright Stars', show_frame=False)\n",
    "disp5 = ctapipe_disp(cam, CT1, res[res.source == type(hmag)], ax[1,1], 'Rate [Hz]', title='Low Brightness Stars', show_frame=False)\n",
    "disp6 = ctapipe_disp(cam, CT1, res[res.source == type(gbl)], ax[1,2], 'Rate [Hz]', title='Galactic Diffuse', show_frame=False)"
   ]
  },
  {
   "cell_type": "code",
   "execution_count": null,
   "id": "86c2d14b-d75f-4d50-9903-65a460695829",
   "metadata": {},
   "outputs": [],
   "source": []
  }
 ],
 "metadata": {
  "kernelspec": {
   "display_name": "Python 3 (ipykernel)",
   "language": "python",
   "name": "python3"
  },
  "language_info": {
   "codemirror_mode": {
    "name": "ipython",
    "version": 3
   },
   "file_extension": ".py",
   "mimetype": "text/x-python",
   "name": "python",
   "nbconvert_exporter": "python",
   "pygments_lexer": "ipython3",
   "version": "3.11.8"
  }
 },
 "nbformat": 4,
 "nbformat_minor": 5
}
