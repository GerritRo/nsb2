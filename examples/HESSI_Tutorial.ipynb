{
 "cells": [
  {
   "cell_type": "code",
   "execution_count": 1,
   "id": "c48bdbbf",
   "metadata": {},
   "outputs": [],
   "source": [
    "import numpy as np\n",
    "import matplotlib.pyplot as plt\n",
    "\n",
    "import astropy\n",
    "import astropy.units as u\n",
    "from astropy.coordinates import SkyCoord, EarthLocation"
   ]
  },
  {
   "cell_type": "code",
   "execution_count": 2,
   "id": "b363575d",
   "metadata": {},
   "outputs": [],
   "source": [
    "from nsb import ASSETS_PATH\n",
    "from nsb.core import Frame, Model\n",
    "from nsb.instrument import HESS\n",
    "from nsb.emitter import moon, airglow, galactic, zodiacal, stars\n",
    "from nsb.atmosphere import scattering, extinction"
   ]
  },
  {
   "cell_type": "markdown",
   "id": "c70d5989",
   "metadata": {},
   "source": [
    "# Predicting Night Sky Background for H.E.S.S. I"
   ]
  },
  {
   "cell_type": "markdown",
   "id": "b4505da8",
   "metadata": {},
   "source": [
    "## 1.  Creating a model"
   ]
  },
  {
   "cell_type": "markdown",
   "id": "15cc6090",
   "metadata": {},
   "source": [
    "We create a standard pipeline for HESSI:"
   ]
  },
  {
   "cell_type": "code",
   "execution_count": 3,
   "id": "7f5b21d6",
   "metadata": {},
   "outputs": [],
   "source": [
    "# Sources:\n",
    "glow = airglow.Noll2012({\"H\": 87})\n",
    "zodi = zodiacal.Masana2021({})\n",
    "jons = moon.Jones2013({})\n",
    "scat = stars.GaiaDR3({'magmin':-3, 'magmax':20, 'method':'synthetic'})\n",
    "smap = stars.GaiaDR3Mag15({})\n",
    "\n",
    "# Atmospheric Extinction:\n",
    "atm_airglow = extinction.Noll2012({'scale':1.6, 'offset':-0.16})([glow])\n",
    "atm_diffuse = extinction.Masana2021({'gamma':0.5})([zodi])\n",
    "atm_stellar = extinction.Masana2021({'gamma':1})([scat, smap])\n",
    "\n",
    "# Atmospheric Scattering:\n",
    "conf_mie = {\"parameters\": [0.8],\n",
    "            \"bins\": [np.linspace(0, np.pi, 1000)]}      \n",
    "conf_ray = {\"parameters\": [0.0148],\n",
    "            \"bins\": [np.linspace(0, np.pi, 1000)]}\n",
    "atm_ray = scattering.Rayleigh(conf_ray)([jons]).map(np.deg2rad(180))\n",
    "atm_mie = scattering.Mie(conf_mie)([jons]).map(np.deg2rad(180))\n",
    "\n",
    "# Camera:\n",
    "CT1 = HESS.CT1_4(8)([atm_stellar, atm_ray, atm_mie, atm_airglow, atm_diffuse])"
   ]
  },
  {
   "cell_type": "markdown",
   "id": "844227c3",
   "metadata": {},
   "source": [
    "### Compiling the model:"
   ]
  },
  {
   "cell_type": "code",
   "execution_count": null,
   "id": "6a2c201e",
   "metadata": {},
   "outputs": [],
   "source": [
    "%%time\n",
    "model = Model(CT1)\n",
    "model.compile()"
   ]
  },
  {
   "cell_type": "markdown",
   "id": "6c0bd4c5",
   "metadata": {},
   "source": [
    "### Visualizing the pipeline\n",
    "Currently, this only prints out the graph, feel free to create your own visualization on top of this."
   ]
  },
  {
   "cell_type": "code",
   "execution_count": null,
   "id": "f46aeed0",
   "metadata": {},
   "outputs": [],
   "source": [
    "print(model.summary())"
   ]
  },
  {
   "cell_type": "markdown",
   "id": "283680db",
   "metadata": {},
   "source": [
    "## 3. Determining a frame to capture:\n",
    "A \"frame\" describing a capture is determined by:\n",
    " - A location\n",
    " - An observation time in UTC\n",
    " - A target at which to point\n",
    " \n",
    "Additionally, this includes\n",
    " - The rotation of the telescope around the axis\n",
    " - The wavelengths at which to evaluate\n",
    " - The single scattering aerosol albedo\n",
    " - The aeronet values for 380nm\n",
    " - The solar flux in SFU (value ideally from 4.5 days before observation)"
   ]
  },
  {
   "cell_type": "code",
   "execution_count": null,
   "id": "8b55abfe",
   "metadata": {},
   "outputs": [],
   "source": [
    "location = EarthLocation.from_geodetic(16.5028, -23.27280, 1800.)\n",
    "obstime  = astropy.time.Time('2021-03-21T22:14:16', format='isot', scale='utc')\n",
    "target   = SkyCoord.from_name('eta car')\n",
    "\n",
    "frame = Frame(location, obstime, target, -0.25*u.deg, np.linspace(270, 730, 30)*u.nm, albedo=0.85, aero=[0.065, 1.2], sfu=75)"
   ]
  },
  {
   "cell_type": "markdown",
   "id": "20f24956",
   "metadata": {},
   "source": [
    "## 4. Using the model to predict NSB\n",
    "Calling the model is then easy:"
   ]
  },
  {
   "cell_type": "code",
   "execution_count": null,
   "id": "c78dc9df",
   "metadata": {},
   "outputs": [],
   "source": [
    "%%time\n",
    "res = model.predict(frame)"
   ]
  },
  {
   "cell_type": "markdown",
   "id": "c3508206",
   "metadata": {},
   "source": [
    "## 5. Visualizing the data:\n",
    "Visualization is easiest with ctapipe (which you should install for this to work):"
   ]
  },
  {
   "cell_type": "code",
   "execution_count": null,
   "id": "fbd4592f-9112-4f5d-8faf-fe5ecc1cc083",
   "metadata": {},
   "outputs": [],
   "source": [
    "from ctapipe.visualization import CameraDisplay\n",
    "from ctapipe.instrument import CameraGeometry\n",
    "cam = CameraGeometry.from_name('HESS-I')\n",
    "def ctapipe_disp(cam, instrument, rays, ax, label='a.u.', **kwargs):\n",
    "    display = CameraDisplay(cam, ax=ax, **kwargs)\n",
    "    display.image = instrument.camera.pix_assign(rays)\n",
    "    display.add_colorbar(label=label)\n",
    "    return display"
   ]
  },
  {
   "cell_type": "code",
   "execution_count": null,
   "id": "0c199632",
   "metadata": {},
   "outputs": [],
   "source": [
    "fig, ax = plt.subplots()\n",
    "disp = ctapipe_disp(cam, CT1, res, ax, 'Rate [Hz]', show_frame=False)\n",
    "disp.set_limits_minmax(0, 1.5e9)"
   ]
  },
  {
   "cell_type": "markdown",
   "id": "089817a4",
   "metadata": {},
   "source": [
    "### Individual contributions:"
   ]
  },
  {
   "cell_type": "code",
   "execution_count": null,
   "id": "d618564b-0c26-4185-943e-55c831fb341e",
   "metadata": {},
   "outputs": [],
   "source": [
    "fig, ax = plt.subplots(nrows=2, ncols=3, figsize=(20,10))\n",
    "disp1 = ctapipe_disp(cam, CT1, res[res.source == type(jons)], ax[0,0], 'Rate [Hz]', title='Moon', show_frame=False)\n",
    "disp2 = ctapipe_disp(cam, CT1, res[res.source == type(glow)], ax[0,1], 'Rate [Hz]', title='Airglow', show_frame=False)\n",
    "disp3 = ctapipe_disp(cam, CT1, res[res.source == type(zodi)], ax[0,2], 'Rate [Hz]', title='Zodiacal Light', show_frame=False)\n",
    "disp4 = ctapipe_disp(cam, CT1, res[res.source == type(scat)], ax[1,0], 'Rate [Hz]', title='Bright Stars', show_frame=False)\n",
    "disp5 = ctapipe_disp(cam, CT1, res[res.source == type(smap)], ax[1,1], 'Rate [Hz]', title='Low Brightness Stars', show_frame=False)\n",
    "disp6 = ctapipe_disp(cam, CT1, res, ax[1,2], 'Rate [Hz]', title='All combined', show_frame=False)"
   ]
  }
 ],
 "metadata": {
  "kernelspec": {
   "display_name": "Python 3 (ipykernel)",
   "language": "python",
   "name": "python3"
  },
  "language_info": {
   "codemirror_mode": {
    "name": "ipython",
    "version": 3
   },
   "file_extension": ".py",
   "mimetype": "text/x-python",
   "name": "python",
   "nbconvert_exporter": "python",
   "pygments_lexer": "ipython3",
   "version": "3.11.8"
  }
 },
 "nbformat": 4,
 "nbformat_minor": 5
}
